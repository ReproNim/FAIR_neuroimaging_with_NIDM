{
 "cells": [
  {
   "cell_type": "markdown",
   "id": "1c48732a-ee24-4be1-854d-f310a4c970c2",
   "metadata": {},
   "source": [
    "Importing the relevant libraries"
   ]
  },
  {
   "cell_type": "code",
   "execution_count": 15,
   "id": "e85510fc-4b3f-4455-9232-b233db14db81",
   "metadata": {
    "scrolled": true
   },
   "outputs": [],
   "source": [
    "import numpy as np\n",
    "import pandas as pd\n",
    "from scipy import stats\n",
    "import statistics\n",
    "import matplotlib.pyplot as plt\n",
    "import matplotlib.patches as mpatches\n",
    "from statsmodels.formula.api import ols\n",
    "import seaborn as sns\n",
    "sns.set()"
   ]
  },
  {
   "cell_type": "markdown",
   "id": "88547b9f-80b0-4a18-aeda-29e05c4d24fa",
   "metadata": {},
   "source": [
    "Load the data"
   ]
  },
  {
   "cell_type": "code",
   "execution_count": 16,
   "id": "2473decf-6e7f-4e90-9fd8-8367f9da0f04",
   "metadata": {
    "scrolled": true
   },
   "outputs": [
    {
     "data": {
      "text/html": [
       "<div>\n",
       "<style scoped>\n",
       "    .dataframe tbody tr th:only-of-type {\n",
       "        vertical-align: middle;\n",
       "    }\n",
       "\n",
       "    .dataframe tbody tr th {\n",
       "        vertical-align: top;\n",
       "    }\n",
       "\n",
       "    .dataframe thead th {\n",
       "        text-align: right;\n",
       "    }\n",
       "</style>\n",
       "<table border=\"1\" class=\"dataframe\">\n",
       "  <thead>\n",
       "    <tr style=\"text-align: right;\">\n",
       "      <th></th>\n",
       "      <th>ID</th>\n",
       "      <th>Sex</th>\n",
       "      <th>Age</th>\n",
       "      <th>brainvol_softwareLabel</th>\n",
       "      <th>brainvol</th>\n",
       "      <th>age_group</th>\n",
       "    </tr>\n",
       "  </thead>\n",
       "  <tbody>\n",
       "    <tr>\n",
       "      <th>0</th>\n",
       "      <td>sub-001</td>\n",
       "      <td>Male</td>\n",
       "      <td>29</td>\n",
       "      <td>Brain Segmentation Volume (mm^3)</td>\n",
       "      <td>1276568.0</td>\n",
       "      <td>Younger</td>\n",
       "    </tr>\n",
       "    <tr>\n",
       "      <th>1</th>\n",
       "      <td>sub-002</td>\n",
       "      <td>Male</td>\n",
       "      <td>30</td>\n",
       "      <td>Brain Segmentation Volume (mm^3)</td>\n",
       "      <td>1201922.0</td>\n",
       "      <td>Older</td>\n",
       "    </tr>\n",
       "    <tr>\n",
       "      <th>2</th>\n",
       "      <td>sub-003</td>\n",
       "      <td>Male</td>\n",
       "      <td>29</td>\n",
       "      <td>Brain Segmentation Volume (mm^3)</td>\n",
       "      <td>1076334.0</td>\n",
       "      <td>Younger</td>\n",
       "    </tr>\n",
       "    <tr>\n",
       "      <th>3</th>\n",
       "      <td>sub-004</td>\n",
       "      <td>Male</td>\n",
       "      <td>39</td>\n",
       "      <td>Brain Segmentation Volume (mm^3)</td>\n",
       "      <td>1195437.0</td>\n",
       "      <td>Older</td>\n",
       "    </tr>\n",
       "    <tr>\n",
       "      <th>4</th>\n",
       "      <td>sub-005</td>\n",
       "      <td>Female</td>\n",
       "      <td>28</td>\n",
       "      <td>Brain Segmentation Volume (mm^3)</td>\n",
       "      <td>1138787.0</td>\n",
       "      <td>Younger</td>\n",
       "    </tr>\n",
       "  </tbody>\n",
       "</table>\n",
       "</div>"
      ],
      "text/plain": [
       "        ID     Sex  Age            brainvol_softwareLabel   brainvol age_group\n",
       "0  sub-001    Male   29  Brain Segmentation Volume (mm^3)  1276568.0   Younger\n",
       "1  sub-002    Male   30  Brain Segmentation Volume (mm^3)  1201922.0     Older\n",
       "2  sub-003    Male   29  Brain Segmentation Volume (mm^3)  1076334.0   Younger\n",
       "3  sub-004    Male   39  Brain Segmentation Volume (mm^3)  1195437.0     Older\n",
       "4  sub-005  Female   28  Brain Segmentation Volume (mm^3)  1138787.0   Younger"
      ]
     },
     "execution_count": 16,
     "metadata": {},
     "output_type": "execute_result"
    }
   ],
   "source": [
    "#Load the data\n",
    "data = pd.read_csv('~/Downloads/STARDOG-Brain_Segmentation_sparql_results.csv')\n",
    "median_age = statistics.median(data['Age'])\n",
    "data['age_group'] = data['Age'].apply(lambda x: 'Younger' if 0 <= x < median_age else 'Older')\n",
    "data.head()"
   ]
  },
  {
   "cell_type": "markdown",
   "id": "52c8fcb0-bb79-4d0b-b15f-c6ed3b34426d",
   "metadata": {},
   "source": [
    "Descriptive statistics"
   ]
  },
  {
   "cell_type": "code",
   "execution_count": 3,
   "id": "69892509-53db-4f59-addc-52168f040524",
   "metadata": {},
   "outputs": [
    {
     "data": {
      "text/html": [
       "<div>\n",
       "<style scoped>\n",
       "    .dataframe tbody tr th:only-of-type {\n",
       "        vertical-align: middle;\n",
       "    }\n",
       "\n",
       "    .dataframe tbody tr th {\n",
       "        vertical-align: top;\n",
       "    }\n",
       "\n",
       "    .dataframe thead th {\n",
       "        text-align: right;\n",
       "    }\n",
       "</style>\n",
       "<table border=\"1\" class=\"dataframe\">\n",
       "  <thead>\n",
       "    <tr style=\"text-align: right;\">\n",
       "      <th></th>\n",
       "      <th>Age</th>\n",
       "      <th>brainvol</th>\n",
       "    </tr>\n",
       "  </thead>\n",
       "  <tbody>\n",
       "    <tr>\n",
       "      <th>count</th>\n",
       "      <td>50.00000</td>\n",
       "      <td>5.000000e+01</td>\n",
       "    </tr>\n",
       "    <tr>\n",
       "      <th>mean</th>\n",
       "      <td>33.62000</td>\n",
       "      <td>1.180781e+06</td>\n",
       "    </tr>\n",
       "    <tr>\n",
       "      <th>std</th>\n",
       "      <td>10.49371</td>\n",
       "      <td>9.450443e+04</td>\n",
       "    </tr>\n",
       "    <tr>\n",
       "      <th>min</th>\n",
       "      <td>21.00000</td>\n",
       "      <td>1.036618e+06</td>\n",
       "    </tr>\n",
       "    <tr>\n",
       "      <th>25%</th>\n",
       "      <td>26.25000</td>\n",
       "      <td>1.099056e+06</td>\n",
       "    </tr>\n",
       "    <tr>\n",
       "      <th>50%</th>\n",
       "      <td>30.00000</td>\n",
       "      <td>1.166269e+06</td>\n",
       "    </tr>\n",
       "    <tr>\n",
       "      <th>75%</th>\n",
       "      <td>36.75000</td>\n",
       "      <td>1.258446e+06</td>\n",
       "    </tr>\n",
       "    <tr>\n",
       "      <th>max</th>\n",
       "      <td>67.00000</td>\n",
       "      <td>1.428587e+06</td>\n",
       "    </tr>\n",
       "  </tbody>\n",
       "</table>\n",
       "</div>"
      ],
      "text/plain": [
       "            Age      brainvol\n",
       "count  50.00000  5.000000e+01\n",
       "mean   33.62000  1.180781e+06\n",
       "std    10.49371  9.450443e+04\n",
       "min    21.00000  1.036618e+06\n",
       "25%    26.25000  1.099056e+06\n",
       "50%    30.00000  1.166269e+06\n",
       "75%    36.75000  1.258446e+06\n",
       "max    67.00000  1.428587e+06"
      ]
     },
     "execution_count": 3,
     "metadata": {},
     "output_type": "execute_result"
    }
   ],
   "source": [
    "data.describe()"
   ]
  },
  {
   "cell_type": "code",
   "execution_count": 4,
   "id": "a8f5d0d2-40ec-4f32-901f-5d5595bf4173",
   "metadata": {},
   "outputs": [
    {
     "data": {
      "text/html": [
       "<div>\n",
       "<style scoped>\n",
       "    .dataframe tbody tr th:only-of-type {\n",
       "        vertical-align: middle;\n",
       "    }\n",
       "\n",
       "    .dataframe tbody tr th {\n",
       "        vertical-align: top;\n",
       "    }\n",
       "\n",
       "    .dataframe thead tr th {\n",
       "        text-align: left;\n",
       "    }\n",
       "\n",
       "    .dataframe thead tr:last-of-type th {\n",
       "        text-align: right;\n",
       "    }\n",
       "</style>\n",
       "<table border=\"1\" class=\"dataframe\">\n",
       "  <thead>\n",
       "    <tr>\n",
       "      <th></th>\n",
       "      <th colspan=\"8\" halign=\"left\">Age</th>\n",
       "      <th colspan=\"8\" halign=\"left\">brainvol</th>\n",
       "    </tr>\n",
       "    <tr>\n",
       "      <th></th>\n",
       "      <th>count</th>\n",
       "      <th>mean</th>\n",
       "      <th>std</th>\n",
       "      <th>min</th>\n",
       "      <th>25%</th>\n",
       "      <th>50%</th>\n",
       "      <th>75%</th>\n",
       "      <th>max</th>\n",
       "      <th>count</th>\n",
       "      <th>mean</th>\n",
       "      <th>std</th>\n",
       "      <th>min</th>\n",
       "      <th>25%</th>\n",
       "      <th>50%</th>\n",
       "      <th>75%</th>\n",
       "      <th>max</th>\n",
       "    </tr>\n",
       "    <tr>\n",
       "      <th>Sex</th>\n",
       "      <th></th>\n",
       "      <th></th>\n",
       "      <th></th>\n",
       "      <th></th>\n",
       "      <th></th>\n",
       "      <th></th>\n",
       "      <th></th>\n",
       "      <th></th>\n",
       "      <th></th>\n",
       "      <th></th>\n",
       "      <th></th>\n",
       "      <th></th>\n",
       "      <th></th>\n",
       "      <th></th>\n",
       "      <th></th>\n",
       "      <th></th>\n",
       "    </tr>\n",
       "  </thead>\n",
       "  <tbody>\n",
       "    <tr>\n",
       "      <th>Female</th>\n",
       "      <td>23.0</td>\n",
       "      <td>31.652174</td>\n",
       "      <td>11.574300</td>\n",
       "      <td>21.0</td>\n",
       "      <td>24.5</td>\n",
       "      <td>28.0</td>\n",
       "      <td>32.5</td>\n",
       "      <td>67.0</td>\n",
       "      <td>23.0</td>\n",
       "      <td>1.130361e+06</td>\n",
       "      <td>67465.867392</td>\n",
       "      <td>1036618.0</td>\n",
       "      <td>1084582.5</td>\n",
       "      <td>1109991.0</td>\n",
       "      <td>1167628.0</td>\n",
       "      <td>1308853.0</td>\n",
       "    </tr>\n",
       "    <tr>\n",
       "      <th>Male</th>\n",
       "      <td>27.0</td>\n",
       "      <td>35.296296</td>\n",
       "      <td>9.371868</td>\n",
       "      <td>23.0</td>\n",
       "      <td>29.0</td>\n",
       "      <td>31.0</td>\n",
       "      <td>38.5</td>\n",
       "      <td>59.0</td>\n",
       "      <td>27.0</td>\n",
       "      <td>1.223731e+06</td>\n",
       "      <td>93892.394355</td>\n",
       "      <td>1047386.0</td>\n",
       "      <td>1154074.5</td>\n",
       "      <td>1231332.0</td>\n",
       "      <td>1289355.0</td>\n",
       "      <td>1428587.0</td>\n",
       "    </tr>\n",
       "  </tbody>\n",
       "</table>\n",
       "</div>"
      ],
      "text/plain": [
       "         Age                                                     brainvol  \\\n",
       "       count       mean        std   min   25%   50%   75%   max    count   \n",
       "Sex                                                                         \n",
       "Female  23.0  31.652174  11.574300  21.0  24.5  28.0  32.5  67.0     23.0   \n",
       "Male    27.0  35.296296   9.371868  23.0  29.0  31.0  38.5  59.0     27.0   \n",
       "\n",
       "                                                                     \\\n",
       "                mean           std        min        25%        50%   \n",
       "Sex                                                                   \n",
       "Female  1.130361e+06  67465.867392  1036618.0  1084582.5  1109991.0   \n",
       "Male    1.223731e+06  93892.394355  1047386.0  1154074.5  1231332.0   \n",
       "\n",
       "                              \n",
       "              75%        max  \n",
       "Sex                           \n",
       "Female  1167628.0  1308853.0  \n",
       "Male    1289355.0  1428587.0  "
      ]
     },
     "execution_count": 4,
     "metadata": {},
     "output_type": "execute_result"
    }
   ],
   "source": [
    "data.groupby('Sex').describe()"
   ]
  },
  {
   "cell_type": "code",
   "execution_count": 5,
   "id": "b5a6bb95-cb84-410b-a7a8-717aaff30b19",
   "metadata": {},
   "outputs": [],
   "source": [
    "male = data.loc[data['Sex'] == 'Male']\n",
    "female = data.loc[data['Sex'] == 'Female']"
   ]
  },
  {
   "cell_type": "code",
   "execution_count": 6,
   "id": "b9e6bc07-deec-4bc0-b428-2dbbd96689d7",
   "metadata": {},
   "outputs": [
    {
     "name": "stdout",
     "output_type": "stream",
     "text": [
      "Age t 1.23023579995219\n",
      "Age pvalue 0.2246041368507364\n",
      "Age df 48.0\n"
     ]
    }
   ],
   "source": [
    "result = stats.ttest_ind(male['Age'], female['Age'])\n",
    "\n",
    "print(\"Age t\", result.statistic)\n",
    "print(\"Age pvalue\", result.pvalue)\n",
    "print(\"Age df\", result.df)"
   ]
  },
  {
   "cell_type": "code",
   "execution_count": 7,
   "id": "cc07de64-7f60-4bf7-9d14-bdd948c98a76",
   "metadata": {},
   "outputs": [
    {
     "name": "stdout",
     "output_type": "stream",
     "text": [
      "Brainvol t 3.9724810143894476\n",
      "Brainvol pvalue 0.00023781493210785047\n",
      "Brain df 48.0\n"
     ]
    }
   ],
   "source": [
    "result = stats.ttest_ind(male['brainvol'], female['brainvol'])\n",
    "\n",
    "print(\"Brainvol t\", result.statistic)\n",
    "print(\"Brainvol pvalue\", result.pvalue)\n",
    "print(\"Brain df\", result.df)"
   ]
  },
  {
   "cell_type": "code",
   "execution_count": 8,
   "id": "c4fd6653-c275-4400-bcc3-b58c86297eed",
   "metadata": {},
   "outputs": [
    {
     "data": {
      "text/html": [
       "<div>\n",
       "<style scoped>\n",
       "    .dataframe tbody tr th:only-of-type {\n",
       "        vertical-align: middle;\n",
       "    }\n",
       "\n",
       "    .dataframe tbody tr th {\n",
       "        vertical-align: top;\n",
       "    }\n",
       "\n",
       "    .dataframe thead tr th {\n",
       "        text-align: left;\n",
       "    }\n",
       "\n",
       "    .dataframe thead tr:last-of-type th {\n",
       "        text-align: right;\n",
       "    }\n",
       "</style>\n",
       "<table border=\"1\" class=\"dataframe\">\n",
       "  <thead>\n",
       "    <tr>\n",
       "      <th></th>\n",
       "      <th colspan=\"8\" halign=\"left\">Age</th>\n",
       "      <th colspan=\"8\" halign=\"left\">brainvol</th>\n",
       "    </tr>\n",
       "    <tr>\n",
       "      <th></th>\n",
       "      <th>count</th>\n",
       "      <th>mean</th>\n",
       "      <th>std</th>\n",
       "      <th>min</th>\n",
       "      <th>25%</th>\n",
       "      <th>50%</th>\n",
       "      <th>75%</th>\n",
       "      <th>max</th>\n",
       "      <th>count</th>\n",
       "      <th>mean</th>\n",
       "      <th>std</th>\n",
       "      <th>min</th>\n",
       "      <th>25%</th>\n",
       "      <th>50%</th>\n",
       "      <th>75%</th>\n",
       "      <th>max</th>\n",
       "    </tr>\n",
       "    <tr>\n",
       "      <th>age_group</th>\n",
       "      <th></th>\n",
       "      <th></th>\n",
       "      <th></th>\n",
       "      <th></th>\n",
       "      <th></th>\n",
       "      <th></th>\n",
       "      <th></th>\n",
       "      <th></th>\n",
       "      <th></th>\n",
       "      <th></th>\n",
       "      <th></th>\n",
       "      <th></th>\n",
       "      <th></th>\n",
       "      <th></th>\n",
       "      <th></th>\n",
       "      <th></th>\n",
       "    </tr>\n",
       "  </thead>\n",
       "  <tbody>\n",
       "    <tr>\n",
       "      <th>Older</th>\n",
       "      <td>27.0</td>\n",
       "      <td>40.111111</td>\n",
       "      <td>10.330438</td>\n",
       "      <td>30.0</td>\n",
       "      <td>31.5</td>\n",
       "      <td>36.0</td>\n",
       "      <td>48.5</td>\n",
       "      <td>67.0</td>\n",
       "      <td>27.0</td>\n",
       "      <td>1.175056e+06</td>\n",
       "      <td>96199.616635</td>\n",
       "      <td>1036618.0</td>\n",
       "      <td>1093889.5</td>\n",
       "      <td>1168846.0</td>\n",
       "      <td>1239603.0</td>\n",
       "      <td>1353625.0</td>\n",
       "    </tr>\n",
       "    <tr>\n",
       "      <th>Younger</th>\n",
       "      <td>23.0</td>\n",
       "      <td>26.000000</td>\n",
       "      <td>2.593699</td>\n",
       "      <td>21.0</td>\n",
       "      <td>24.0</td>\n",
       "      <td>26.0</td>\n",
       "      <td>29.0</td>\n",
       "      <td>29.0</td>\n",
       "      <td>23.0</td>\n",
       "      <td>1.187501e+06</td>\n",
       "      <td>94167.695090</td>\n",
       "      <td>1064985.0</td>\n",
       "      <td>1118166.0</td>\n",
       "      <td>1158896.0</td>\n",
       "      <td>1269947.0</td>\n",
       "      <td>1428587.0</td>\n",
       "    </tr>\n",
       "  </tbody>\n",
       "</table>\n",
       "</div>"
      ],
      "text/plain": [
       "            Age                                                     brainvol  \\\n",
       "          count       mean        std   min   25%   50%   75%   max    count   \n",
       "age_group                                                                      \n",
       "Older      27.0  40.111111  10.330438  30.0  31.5  36.0  48.5  67.0     27.0   \n",
       "Younger    23.0  26.000000   2.593699  21.0  24.0  26.0  29.0  29.0     23.0   \n",
       "\n",
       "                                                                        \\\n",
       "                   mean           std        min        25%        50%   \n",
       "age_group                                                                \n",
       "Older      1.175056e+06  96199.616635  1036618.0  1093889.5  1168846.0   \n",
       "Younger    1.187501e+06  94167.695090  1064985.0  1118166.0  1158896.0   \n",
       "\n",
       "                                 \n",
       "                 75%        max  \n",
       "age_group                        \n",
       "Older      1239603.0  1353625.0  \n",
       "Younger    1269947.0  1428587.0  "
      ]
     },
     "execution_count": 8,
     "metadata": {},
     "output_type": "execute_result"
    }
   ],
   "source": [
    "data.groupby('age_group').describe()"
   ]
  },
  {
   "cell_type": "markdown",
   "id": "852a7fd3-d847-4724-a6ff-ef088ec406a1",
   "metadata": {},
   "source": [
    "Declare the dependant and independant variables and regress"
   ]
  },
  {
   "cell_type": "code",
   "execution_count": 9,
   "id": "b0d08734-b5b8-4bba-925d-88bc2d43c13a",
   "metadata": {},
   "outputs": [
    {
     "name": "stdout",
     "output_type": "stream",
     "text": [
      "                            OLS Regression Results                            \n",
      "==============================================================================\n",
      "Dep. Variable:               brainvol   R-squared:                       0.026\n",
      "Model:                            OLS   Adj. R-squared:                  0.006\n",
      "Method:                 Least Squares   F-statistic:                     1.302\n",
      "Date:                Wed, 25 Jun 2025   Prob (F-statistic):              0.259\n",
      "Time:                        09:21:39   Log-Likelihood:                -642.59\n",
      "No. Observations:                  50   AIC:                             1289.\n",
      "Df Residuals:                      48   BIC:                             1293.\n",
      "Df Model:                           1                                         \n",
      "Covariance Type:            nonrobust                                         \n",
      "==============================================================================\n",
      "                 coef    std err          t      P>|t|      [0.025      0.975]\n",
      "------------------------------------------------------------------------------\n",
      "Intercept    1.23e+06   4.51e+04     27.253      0.000    1.14e+06    1.32e+06\n",
      "Age        -1463.6757   1282.595     -1.141      0.259   -4042.506    1115.154\n",
      "==============================================================================\n",
      "Omnibus:                        2.845   Durbin-Watson:                   2.196\n",
      "Prob(Omnibus):                  0.241   Jarque-Bera (JB):                2.603\n",
      "Skew:                           0.479   Prob(JB):                        0.272\n",
      "Kurtosis:                       2.423   Cond. No.                         119.\n",
      "==============================================================================\n",
      "\n",
      "Notes:\n",
      "[1] Standard Errors assume that the covariance matrix of the errors is correctly specified.\n"
     ]
    }
   ],
   "source": [
    "#model = sm.OLS(y,x).fit()\n",
    "x = data['Age']\n",
    "y = data['brainvol']\n",
    "mod = ols('brainvol ~ Age', data=data)\n",
    "res = mod.fit()\n",
    "print(res.summary())"
   ]
  },
  {
   "cell_type": "markdown",
   "id": "f2f21d63-7f59-4eef-a2f0-f0b3cb1f9052",
   "metadata": {},
   "source": [
    "It create three tables - the second table contains the coefficients, p-values, etc. From the summary table, we can find the intercept (const) coefficient and the independent variable coefficient. These features will be used to plot the regression where y_hat = b0 + (b1*x1) where b0 = intercept (const) coefficient and b1 = independent variable coefficient.\n",
    "\n",
    "Plot the data y_hat = b0 + (b1*x1). In this example, the intercept is 1.425e+06 and the independent variable coefficient 7522.2511."
   ]
  },
  {
   "cell_type": "code",
   "execution_count": 17,
   "id": "b874a133-b839-4d34-b3c3-bfee481ea9e2",
   "metadata": {},
   "outputs": [
    {
     "data": {
      "image/png": "[encoded data removed]",
      "text/plain": [
       "<Figure size 640x480 with 1 Axes>"
      ]
     },
     "metadata": {},
     "output_type": "display_data"
    }
   ],
   "source": [
    "plt.scatter(x,y)\n",
    "cols = {'Male': 'blue', 'Female': 'red'}\n",
    "# Define the regression equation\n",
    "y_hat = 1.23e+06 - 1463.6757*x\n",
    "red_patch = mpatches.Patch(color='red', label='Female')\n",
    "blue_patch = mpatches.Patch(color='blue', label='Male')\n",
    "plt.legend(handles=[red_patch, blue_patch])\n",
    "plt.scatter(x, y, c=data.Sex.map(cols))\n",
    "# Plot the regression line\n",
    "fig = plt.plot(x,y_hat, lw=2, c='red', label = 'regression line')\n",
    "# Format the axes\n",
    "plt.xlabel('Age (years)', fontsize = 12)\n",
    "plt.ylabel('Brain volume (mm$^3$)', fontsize = 12)\n",
    "plt.show()"
   ]
  },
  {
   "cell_type": "markdown",
   "id": "81e24b32-6824-4b2e-989b-1859907525fd",
   "metadata": {},
   "source": [
    "Looking at sex differences, encode the Sex as categorical"
   ]
  },
  {
   "cell_type": "code",
   "execution_count": 18,
   "id": "26fdf4ad-b953-4c5e-9a68-1f17f1d90673",
   "metadata": {},
   "outputs": [
    {
     "name": "stdout",
     "output_type": "stream",
     "text": [
      "                            OLS Regression Results                            \n",
      "==============================================================================\n",
      "Dep. Variable:               brainvol   R-squared:                       0.312\n",
      "Model:                            OLS   Adj. R-squared:                  0.282\n",
      "Method:                 Least Squares   F-statistic:                     10.64\n",
      "Date:                Wed, 25 Jun 2025   Prob (F-statistic):           0.000154\n",
      "Time:                        09:25:12   Log-Likelihood:                -633.93\n",
      "No. Observations:                  50   AIC:                             1274.\n",
      "Df Residuals:                      47   BIC:                             1280.\n",
      "Df Model:                           2                                         \n",
      "Covariance Type:            nonrobust                                         \n",
      "==================================================================================\n",
      "                     coef    std err          t      P>|t|      [0.025      0.975]\n",
      "----------------------------------------------------------------------------------\n",
      "Intercept       1.204e+06   3.88e+04     31.015      0.000    1.13e+06    1.28e+06\n",
      "C(Sex)[T.Male]  1.018e+05   2.31e+04      4.413      0.000    5.54e+04    1.48e+05\n",
      "Age            -2317.7115   1106.947     -2.094      0.042   -4544.601     -90.822\n",
      "==============================================================================\n",
      "Omnibus:                        0.459   Durbin-Watson:                   2.073\n",
      "Prob(Omnibus):                  0.795   Jarque-Bera (JB):                0.085\n",
      "Skew:                           0.076   Prob(JB):                        0.958\n",
      "Kurtosis:                       3.134   Cond. No.                         121.\n",
      "==============================================================================\n",
      "\n",
      "Notes:\n",
      "[1] Standard Errors assume that the covariance matrix of the errors is correctly specified.\n"
     ]
    }
   ],
   "source": [
    "mod = ols('brainvol ~ Age + C(Sex)', data=data)\n",
    "res = mod.fit()\n",
    "print(res.summary())"
   ]
  },
  {
   "cell_type": "code",
   "execution_count": 19,
   "id": "aa0998e7-1a91-4df9-ac1c-dc0911412d06",
   "metadata": {},
   "outputs": [
    {
     "data": {
      "image/png": "[encoded data removed]",
      "text/plain": [
       "<Figure size 640x480 with 1 Axes>"
      ]
     },
     "metadata": {},
     "output_type": "display_data"
    }
   ],
   "source": [
    "plt.scatter(x,y)\n",
    "# Define the regression equation\n",
    "y_hat = 1.204e+06 - 2317.7115*x\n",
    "\n",
    "# Plot the regression line\n",
    "\n",
    "fig = plt.plot(x,y_hat, lw=2, c='red', label = 'regression line')\n",
    "plt.legend(handles=[red_patch, blue_patch])\n",
    "plt.scatter(x, y, c=data.Sex.map(cols))\n",
    "# Format the axes\n",
    "plt.xlabel('Age (years)', fontsize = 12)\n",
    "plt.ylabel('Brain volume (mm$^3$)', fontsize = 12)\n",
    "plt.show()"
   ]
  },
  {
   "cell_type": "code",
   "execution_count": 20,
   "id": "f40a481a-92dd-4339-9538-d8cd79109ec6",
   "metadata": {},
   "outputs": [
    {
     "name": "stdout",
     "output_type": "stream",
     "text": [
      "                            OLS Regression Results                            \n",
      "==============================================================================\n",
      "Dep. Variable:               brainvol   R-squared:                       0.312\n",
      "Model:                            OLS   Adj. R-squared:                  0.267\n",
      "Method:                 Least Squares   F-statistic:                     6.945\n",
      "Date:                Wed, 25 Jun 2025   Prob (F-statistic):           0.000595\n",
      "Time:                        09:25:17   Log-Likelihood:                -633.92\n",
      "No. Observations:                  50   AIC:                             1276.\n",
      "Df Residuals:                      46   BIC:                             1283.\n",
      "Df Model:                           3                                         \n",
      "Covariance Type:            nonrobust                                         \n",
      "====================================================================================\n",
      "                       coef    std err          t      P>|t|      [0.025      0.975]\n",
      "------------------------------------------------------------------------------------\n",
      "Intercept         1.192e+06    1.5e+05      7.946      0.000     8.9e+05    1.49e+06\n",
      "C(Sex)[T.Male]    1.011e+05   2.52e+04      4.004      0.000    5.03e+04    1.52e+05\n",
      "np.power(Age, 2)    -7.9310     99.929     -0.079      0.937    -209.077     193.215\n",
      "Age              -1671.4228   8219.549     -0.203      0.840   -1.82e+04    1.49e+04\n",
      "==============================================================================\n",
      "Omnibus:                        0.473   Durbin-Watson:                   2.073\n",
      "Prob(Omnibus):                  0.790   Jarque-Bera (JB):                0.094\n",
      "Skew:                           0.082   Prob(JB):                        0.954\n",
      "Kurtosis:                       3.136   Cond. No.                     1.97e+04\n",
      "==============================================================================\n",
      "\n",
      "Notes:\n",
      "[1] Standard Errors assume that the covariance matrix of the errors is correctly specified.\n",
      "[2] The condition number is large, 1.97e+04. This might indicate that there are\n",
      "strong multicollinearity or other numerical problems.\n"
     ]
    }
   ],
   "source": [
    "mod = ols('brainvol ~ np.power(Age, 2) + Age + C(Sex)', data=data)\n",
    "res = mod.fit()\n",
    "print(res.summary())"
   ]
  },
  {
   "cell_type": "code",
   "execution_count": 21,
   "id": "a1e53b3f-5d1c-4c48-97d1-8406856e1f8c",
   "metadata": {},
   "outputs": [
    {
     "data": {
      "image/png": "[encoded data removed]",
      "text/plain": [
       "<Figure size 640x480 with 1 Axes>"
      ]
     },
     "metadata": {},
     "output_type": "display_data"
    }
   ],
   "source": [
    "plt.scatter(x,y)\n",
    "# Define the regression equation\n",
    "y_hat = 1.192e+06 - 1671.4228*x - 7.9310*x*x\n",
    "# Plot the regression line\n",
    "fig = plt.plot(x,y_hat, lw=2, c='red', label = 'regression line')\n",
    "plt.legend(handles=[red_patch, blue_patch])\n",
    "plt.scatter(x, y, c=data.Sex.map(cols))\n",
    "# Format the axes\n",
    "plt.xlabel('Age (years)', fontsize = 12)\n",
    "plt.ylabel('Brain volume (mm$^3$)', fontsize = 12)\n",
    "plt.show()"
   ]
  },
  {
   "cell_type": "code",
   "execution_count": null,
   "id": "113d7f2d-58af-4a07-a05d-0500ad5d763f",
   "metadata": {},
   "outputs": [],
   "source": []
  }
 ],
 "metadata": {
  "kernelspec": {
   "display_name": "Python 3 (ipykernel)",
   "language": "python",
   "name": "python3"
  },
  "language_info": {
   "codemirror_mode": {
    "name": "ipython",
    "version": 3
   },
   "file_extension": ".py",
   "mimetype": "text/x-python",
   "name": "python",
   "nbconvert_exporter": "python",
   "pygments_lexer": "ipython3",
   "version": "3.12.3"
  }
 },
 "nbformat": 4,
 "nbformat_minor": 5
}
